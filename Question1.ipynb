{
 "cells": [
  {
   "cell_type": "code",
   "execution_count": 1,
   "metadata": {
    "scrolled": true
   },
   "outputs": [
    {
     "name": "stdout",
     "output_type": "stream",
     "text": [
      "150\n",
      "F = 150.0\n",
      "0.04\n",
      "r = 0.04\n"
     ]
    }
   ],
   "source": [
    "#given parameters\n",
    "alpha = 0.055 # contractual interest rate\n",
    "T = 5 # maturity\n",
    "P_c = 103 # Call Price\n",
    "F = float(input('')) #Please enter the number of Face value\n",
    "print('F = {}'.format(F))\n",
    "r = float(input('')) #Please enter the number of interest rate\n",
    "print('r = {}'.format(r))"
   ]
  },
  {
   "cell_type": "code",
   "execution_count": 2,
   "metadata": {},
   "outputs": [],
   "source": [
    "def Plain_Vanila_Bond_price(alpha,T,F,r):\n",
    "    C = F*alpha #coupon payment\n",
    "    P = 0\n",
    "    for i in range(1,T+1):\n",
    "        P += C/(1+r)**i\n",
    "    P += F/(1+r)**T    \n",
    "    P = round(P,2)\n",
    "    return P"
   ]
  },
  {
   "cell_type": "code",
   "execution_count": 3,
   "metadata": {},
   "outputs": [],
   "source": [
    "def Callable_Bond_price(alpha,T,F,r,P_c):\n",
    "    cbp = Plain_Vanila_Bond_price(alpha,T,F,r) - P_c  #cbp = Callable bond price\n",
    "    cbp = round(cbp,2)\n",
    "    return cbp"
   ]
  },
  {
   "cell_type": "code",
   "execution_count": 4,
   "metadata": {
    "scrolled": true
   },
   "outputs": [
    {
     "name": "stdout",
     "output_type": "stream",
     "text": [
      "Bond_Price = 160.02\n"
     ]
    }
   ],
   "source": [
    "print('Bond_Price = {}'.format(Plain_Vanila_Bond_price(alpha,T,F,r)))"
   ]
  },
  {
   "cell_type": "code",
   "execution_count": 5,
   "metadata": {},
   "outputs": [
    {
     "data": {
      "text/plain": [
       "57.02"
      ]
     },
     "execution_count": 5,
     "metadata": {},
     "output_type": "execute_result"
    }
   ],
   "source": [
    "cbp = Callable_Bond_price(alpha,T,F,r,P_c)\n",
    "cbp"
   ]
  },
  {
   "cell_type": "code",
   "execution_count": 6,
   "metadata": {},
   "outputs": [],
   "source": [
    "import numpy as np"
   ]
  },
  {
   "cell_type": "code",
   "execution_count": 7,
   "metadata": {},
   "outputs": [
    {
     "name": "stdout",
     "output_type": "stream",
     "text": [
      "Calculating example option price:\n",
      "69.5831093890572\n"
     ]
    }
   ],
   "source": [
    "def binomial_model(N, S0, u, r, K,F):\n",
    "    \"\"\"\n",
    "    N = number of binomial iterations\n",
    "    S0 = initial stock price\n",
    "    u = factor change of upstate\n",
    "    r = risk free interest rate per annum\n",
    "    K = strike price\n",
    "    \"\"\"\n",
    "    d = 1 / u\n",
    "    p = (1 + r - d) / (u - d)\n",
    "    q = 1 - p\n",
    "    alpha = 0.055\n",
    "    C = F*alpha\n",
    "    P_C = 103\n",
    "    # = a*np.exp(b*j)\n",
    "    # make stock price tree\n",
    "    stock = np.zeros([N + 1, N + 1])\n",
    "    for i in range(N + 1):\n",
    "        for j in range(i + 1):\n",
    "            stock[j, i] = S0 * (u ** (i - j)) * (d ** j)\n",
    "\n",
    "    # Generate option prices recursively\n",
    "    option = np.zeros([N + 1, N + 1])\n",
    "    option[:, N] = np.minimum(P_C, F+C)\n",
    "    for i in range(N - 1, -1, -1):\n",
    "        for j in range(0, i + 1):\n",
    "            option[j, i] = (\n",
    "                1 / (1 + r) * (p * option[j, i + 1] + q * option[j + 1, i + 1])\n",
    "            )\n",
    "    return option\n",
    "\n",
    "\n",
    "if __name__ == \"__main__\":\n",
    "    print(\"Calculating example option price:\")\n",
    "    op_price = binomial_model(10, 100, 2, 0.04, 100,F)\n",
    "    print(op_price[0][0])"
   ]
  },
  {
   "cell_type": "code",
   "execution_count": null,
   "metadata": {},
   "outputs": [],
   "source": []
  }
 ],
 "metadata": {
  "kernelspec": {
   "display_name": "Python 3 (ipykernel)",
   "language": "python",
   "name": "python3"
  },
  "language_info": {
   "codemirror_mode": {
    "name": "ipython",
    "version": 3
   },
   "file_extension": ".py",
   "mimetype": "text/x-python",
   "name": "python",
   "nbconvert_exporter": "python",
   "pygments_lexer": "ipython3",
   "version": "3.8.3"
  }
 },
 "nbformat": 4,
 "nbformat_minor": 4
}

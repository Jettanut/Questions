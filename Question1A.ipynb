{
 "cells": [
  {
   "cell_type": "code",
   "execution_count": 1,
   "id": "e252d415",
   "metadata": {},
   "outputs": [],
   "source": [
    "import numpy as np\n",
    "import matplotlib.pyplot as plt"
   ]
  },
  {
   "cell_type": "code",
   "execution_count": 2,
   "id": "d7352bda",
   "metadata": {},
   "outputs": [],
   "source": [
    "#given parameters\n",
    "alpha = 0.055 # contractual interest rate\n",
    "T = 5 # maturity\n",
    "dt = 0.5\n",
    "P_c = 103 # Call Price\n",
    "F = 100\n",
    "YTM = 0.045 #YTM=4.5%\n",
    "N = int(T/dt)"
   ]
  },
  {
   "cell_type": "markdown",
   "id": "5c8e34a0",
   "metadata": {},
   "source": [
    "### **Compute Bond Price**"
   ]
  },
  {
   "cell_type": "code",
   "execution_count": 3,
   "id": "e088a951",
   "metadata": {},
   "outputs": [],
   "source": [
    "X = np.arange(dt,T+dt,dt)"
   ]
  },
  {
   "cell_type": "code",
   "execution_count": 4,
   "id": "b4caefcd",
   "metadata": {},
   "outputs": [],
   "source": [
    "def Plain_Vanila_Bond_price(alpha,N,F,YTM):\n",
    "    C = F*(dt*alpha) #coupon payment = 2.75\n",
    "    SUM = 0\n",
    "    PV_list = []\n",
    "    for i in X:\n",
    "        if i != X[-1]:\n",
    "            PV = C/(1+YTM)**i\n",
    "            PV_list.append(PV)\n",
    "            SUM += PV\n",
    "        elif i == X[-1]:\n",
    "            PV = (F+C)/(1+YTM)**T \n",
    "            PV_list.append(PV)\n",
    "            SUM += PV\n",
    "        else:\n",
    "            pass\n",
    "    return SUM,PV_list"
   ]
  },
  {
   "cell_type": "code",
   "execution_count": 5,
   "id": "69a7518c",
   "metadata": {},
   "outputs": [],
   "source": [
    "Bond_price,PV_list = Plain_Vanila_Bond_price(alpha,N,F,YTM)[0],Plain_Vanila_Bond_price(alpha,N,F,YTM)[1]"
   ]
  },
  {
   "cell_type": "code",
   "execution_count": 6,
   "id": "c551562e",
   "metadata": {},
   "outputs": [],
   "source": [
    "numlist = []\n",
    "numlist2 =[]\n",
    "for i in PV_list:\n",
    "    numlist.append(PV_list.index(i)+1)\n",
    "    numlist2.append(PV_list.index(i))"
   ]
  },
  {
   "cell_type": "code",
   "execution_count": 7,
   "id": "574fe94d",
   "metadata": {},
   "outputs": [
    {
     "data": {
      "image/png": "[encoded data removed]",
      "text/plain": [
       "<Figure size 720x360 with 1 Axes>"
      ]
     },
     "metadata": {
      "needs_background": "light"
     },
     "output_type": "display_data"
    },
    {
     "name": "stdout",
     "output_type": "stream",
     "text": [
      "Present values of payments 1 = 2.69\n",
      "Present values of payments 2 = 2.63\n",
      "Present values of payments 3 = 2.57\n",
      "Present values of payments 4 = 2.52\n",
      "Present values of payments 5 = 2.46\n",
      "Present values of payments 6 = 2.41\n",
      "Present values of payments 7 = 2.36\n",
      "Present values of payments 8 = 2.31\n",
      "Present values of payments 9 = 2.26\n",
      "Present values of payments 10 = 82.45\n",
      "\n",
      "Bond price = 104.66\n"
     ]
    }
   ],
   "source": [
    "fig = plt.figure(figsize = (10, 5))\n",
    "# creating the bar plot\n",
    "plt.bar(numlist,PV_list)\n",
    "plt.show()\n",
    "for i in numlist2:\n",
    "    print('Present values of payments %d = %.2f'%((i+1),PV_list[i]))\n",
    "print('\\nBond price = %.2f'%Bond_price)"
   ]
  }
 ],
 "metadata": {
  "kernelspec": {
   "display_name": "Python 3 (ipykernel)",
   "language": "python",
   "name": "python3"
  },
  "language_info": {
   "codemirror_mode": {
    "name": "ipython",
    "version": 3
   },
   "file_extension": ".py",
   "mimetype": "text/x-python",
   "name": "python",
   "nbconvert_exporter": "python",
   "pygments_lexer": "ipython3",
   "version": "3.8.3"
  }
 },
 "nbformat": 4,
 "nbformat_minor": 5
}

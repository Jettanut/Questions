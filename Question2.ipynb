{
 "cells": [
  {
   "cell_type": "code",
   "execution_count": 1,
   "id": "bc1d3f14",
   "metadata": {},
   "outputs": [],
   "source": [
    "#Please,download 2csv files from this url: https://drive.google.com/drive/folders/1dRkJiH4i3NFS_9fG8rXBsfx6Y99VDhGo?usp=sharing\n",
    "#!pip install re\n",
    "#!pip install os\n",
    "#!pip install io\n",
    "#!pip install pandas\n",
    "#!pip install numpy\n",
    "#!pip install seaborn\n",
    "#!pip install matplotlib\n",
    "#!pip install sklearn\n",
    "#!pip install sweetviz\n",
    "#!pip install tqdm"
   ]
  },
  {
   "cell_type": "code",
   "execution_count": 2,
   "id": "6e34078c",
   "metadata": {},
   "outputs": [],
   "source": [
    "import re\n",
    "import os\n",
    "import io\n",
    "import pandas as pd\n",
    "import numpy as np\n",
    "import seaborn as sns\n",
    "import matplotlib.pyplot as plt\n",
    "from sklearn import preprocessing\n",
    "from sklearn.linear_model import LogisticRegression\n",
    "from sklearn import metrics\n",
    "from sklearn.model_selection import train_test_split\n",
    "#import sweetviz as sv\n",
    "from tqdm import tqdm,trange"
   ]
  },
  {
   "cell_type": "code",
   "execution_count": 3,
   "id": "30145637",
   "metadata": {},
   "outputs": [],
   "source": [
    "file = 'Desktop/Question/loan/loan.csv'"
   ]
  },
  {
   "cell_type": "code",
   "execution_count": 4,
   "id": "6abe7be5",
   "metadata": {},
   "outputs": [
    {
     "name": "stderr",
     "output_type": "stream",
     "text": [
      "C:\\Users\\TOT_User\\AppData\\Local\\Temp\\ipykernel_11924\\2114627168.py:1: DtypeWarning: Columns (19,55) have mixed types. Specify dtype option on import or set low_memory=False.\n",
      "  df = pd.read_csv(file)\n"
     ]
    }
   ],
   "source": [
    "df = pd.read_csv(file)\n",
    "df['loan_status2'] = ''"
   ]
  },
  {
   "cell_type": "code",
   "execution_count": 5,
   "id": "d2b58e78",
   "metadata": {},
   "outputs": [],
   "source": [
    "#report = sv.analyze(df)\n",
    "#report.show_html('report.html',open_browser=True)"
   ]
  },
  {
   "cell_type": "code",
   "execution_count": 6,
   "id": "99aef3f2",
   "metadata": {},
   "outputs": [
    {
     "name": "stderr",
     "output_type": "stream",
     "text": [
      "  0%|                                               | 0/887379 [00:00<?, ?it/s]C:\\Users\\TOT_User\\AppData\\Local\\Temp\\ipykernel_11924\\433327464.py:7: SettingWithCopyWarning: \n",
      "A value is trying to be set on a copy of a slice from a DataFrame\n",
      "\n",
      "See the caveats in the documentation: https://pandas.pydata.org/pandas-docs/stable/user_guide/indexing.html#returning-a-view-versus-a-copy\n",
      "  df['loan_status2'][i] = 0\n",
      "  0%|                                   | 164/887379 [00:00<09:01, 1639.91it/s]C:\\Users\\TOT_User\\AppData\\Local\\Temp\\ipykernel_11924\\433327464.py:5: SettingWithCopyWarning: \n",
      "A value is trying to be set on a copy of a slice from a DataFrame\n",
      "\n",
      "See the caveats in the documentation: https://pandas.pydata.org/pandas-docs/stable/user_guide/indexing.html#returning-a-view-versus-a-copy\n",
      "  df['loan_status2'][i] = 1\n",
      "100%|████████████████████████████████| 887379/887379 [05:44<00:00, 2575.83it/s]\n"
     ]
    }
   ],
   "source": [
    "for i in trange(len(df)):\n",
    "\n",
    "    try:\n",
    "        if df['loan_status'][i] == 'Default':\n",
    "            df['loan_status2'][i] = 1\n",
    "        else:\n",
    "            df['loan_status2'][i] = 0\n",
    "    except:\n",
    "        pass\n",
    "\n"
   ]
  },
  {
   "cell_type": "code",
   "execution_count": 7,
   "id": "bf7b2e09",
   "metadata": {},
   "outputs": [],
   "source": [
    "columns = ['id', 'member_id', 'loan_amnt', 'funded_amnt', 'funded_amnt_inv',\n",
    "       'term', 'int_rate', 'installment', 'grade', 'sub_grade', 'emp_title',\n",
    "       'emp_length', 'home_ownership', 'annual_inc', 'verification_status'\n",
    "        ,'issue_d', 'loan_status','loan_status2', 'pymnt_plan', 'url', 'desc', 'purpose',\n",
    "       'title', 'zip_code', 'addr_state', 'dti', 'delinq_2yrs',\n",
    "       'earliest_cr_line', 'inq_last_6mths', 'mths_since_last_delinq',\n",
    "       'mths_since_last_record', 'open_acc', 'pub_rec', 'revol_bal',\n",
    "       'revol_util', 'total_acc', 'initial_list_status', 'out_prncp',\n",
    "       'out_prncp_inv', 'total_pymnt', 'total_pymnt_inv', 'total_rec_prncp',\n",
    "       'total_rec_int', 'total_rec_late_fee', 'recoveries',\n",
    "       'collection_recovery_fee', 'last_pymnt_d', 'last_pymnt_amnt',\n",
    "       'next_pymnt_d', 'last_credit_pull_d', 'collections_12_mths_ex_med',\n",
    "       'mths_since_last_major_derog', 'policy_code', 'application_type',\n",
    "       'annual_inc_joint', 'dti_joint', 'verification_status_joint',\n",
    "       'acc_now_delinq', 'tot_coll_amt', 'tot_cur_bal', 'open_acc_6m',\n",
    "       'open_il_6m', 'open_il_12m', 'open_il_24m', 'mths_since_rcnt_il',\n",
    "       'total_bal_il', 'il_util', 'open_rv_12m', 'open_rv_24m', 'max_bal_bc',\n",
    "       'all_util', 'total_rev_hi_lim', 'inq_fi', 'total_cu_tl', 'inq_last_12m'\n",
    "       ]\n",
    "df = df[columns]"
   ]
  },
  {
   "cell_type": "code",
   "execution_count": 8,
   "id": "c6e106a3",
   "metadata": {},
   "outputs": [],
   "source": [
    "file2 = 'Desktop/Question/loan/loan2.csv'\n",
    "df.to_csv(file2,index=False)"
   ]
  },
  {
   "cell_type": "code",
   "execution_count": 9,
   "id": "f1537266",
   "metadata": {
    "scrolled": true
   },
   "outputs": [
    {
     "name": "stderr",
     "output_type": "stream",
     "text": [
      "C:\\Users\\TOT_User\\AppData\\Local\\Temp\\ipykernel_11924\\1308569138.py:1: DtypeWarning: Columns (20,56) have mixed types. Specify dtype option on import or set low_memory=False.\n",
      "  new_df = pd.read_csv(file2)\n"
     ]
    },
    {
     "data": {
      "text/plain": [
       "Index(['id', 'member_id', 'loan_amnt', 'funded_amnt', 'funded_amnt_inv',\n",
       "       'term', 'int_rate', 'installment', 'grade', 'sub_grade', 'emp_title',\n",
       "       'emp_length', 'home_ownership', 'annual_inc', 'verification_status',\n",
       "       'issue_d', 'loan_status', 'loan_status2', 'pymnt_plan', 'url', 'desc',\n",
       "       'purpose', 'title', 'zip_code', 'addr_state', 'dti', 'delinq_2yrs',\n",
       "       'earliest_cr_line', 'inq_last_6mths', 'mths_since_last_delinq',\n",
       "       'mths_since_last_record', 'open_acc', 'pub_rec', 'revol_bal',\n",
       "       'revol_util', 'total_acc', 'initial_list_status', 'out_prncp',\n",
       "       'out_prncp_inv', 'total_pymnt', 'total_pymnt_inv', 'total_rec_prncp',\n",
       "       'total_rec_int', 'total_rec_late_fee', 'recoveries',\n",
       "       'collection_recovery_fee', 'last_pymnt_d', 'last_pymnt_amnt',\n",
       "       'next_pymnt_d', 'last_credit_pull_d', 'collections_12_mths_ex_med',\n",
       "       'mths_since_last_major_derog', 'policy_code', 'application_type',\n",
       "       'annual_inc_joint', 'dti_joint', 'verification_status_joint',\n",
       "       'acc_now_delinq', 'tot_coll_amt', 'tot_cur_bal', 'open_acc_6m',\n",
       "       'open_il_6m', 'open_il_12m', 'open_il_24m', 'mths_since_rcnt_il',\n",
       "       'total_bal_il', 'il_util', 'open_rv_12m', 'open_rv_24m', 'max_bal_bc',\n",
       "       'all_util', 'total_rev_hi_lim', 'inq_fi', 'total_cu_tl',\n",
       "       'inq_last_12m'],\n",
       "      dtype='object')"
      ]
     },
     "execution_count": 9,
     "metadata": {},
     "output_type": "execute_result"
    }
   ],
   "source": [
    "new_df = pd.read_csv(file2)\n",
    "#new_df.drop('Unnamed: 0',axis=1,inplace=True)\n",
    "new_df.columns"
   ]
  },
  {
   "cell_type": "code",
   "execution_count": 10,
   "id": "6ec149d2",
   "metadata": {},
   "outputs": [],
   "source": [
    "new_df2 = new_df[['id', 'member_id','loan_amnt','term','grade','sub_grade','emp_length','home_ownership','int_rate','verification_status','loan_status2']].dropna()"
   ]
  },
  {
   "cell_type": "code",
   "execution_count": 11,
   "id": "09066f6d",
   "metadata": {},
   "outputs": [
    {
     "name": "stdout",
     "output_type": "stream",
     "text": [
      "Index(['id', 'member_id', 'loan_amnt', 'int_rate', 'loan_status2',\n",
      "       'term_ 36 months', 'term_ 60 months', 'grade_A', 'grade_B', 'grade_C',\n",
      "       'grade_D', 'grade_E', 'grade_F', 'grade_G', 'sub_grade_A1',\n",
      "       'sub_grade_A2', 'sub_grade_A3', 'sub_grade_A4', 'sub_grade_A5',\n",
      "       'sub_grade_B1', 'sub_grade_B2', 'sub_grade_B3', 'sub_grade_B4',\n",
      "       'sub_grade_B5', 'sub_grade_C1', 'sub_grade_C2', 'sub_grade_C3',\n",
      "       'sub_grade_C4', 'sub_grade_C5', 'sub_grade_D1', 'sub_grade_D2',\n",
      "       'sub_grade_D3', 'sub_grade_D4', 'sub_grade_D5', 'sub_grade_E1',\n",
      "       'sub_grade_E2', 'sub_grade_E3', 'sub_grade_E4', 'sub_grade_E5',\n",
      "       'sub_grade_F1', 'sub_grade_F2', 'sub_grade_F3', 'sub_grade_F4',\n",
      "       'sub_grade_F5', 'sub_grade_G1', 'sub_grade_G2', 'sub_grade_G3',\n",
      "       'sub_grade_G4', 'sub_grade_G5', 'emp_length_1 year',\n",
      "       'emp_length_10+ years', 'emp_length_2 years', 'emp_length_3 years',\n",
      "       'emp_length_4 years', 'emp_length_5 years', 'emp_length_6 years',\n",
      "       'emp_length_7 years', 'emp_length_8 years', 'emp_length_9 years',\n",
      "       'emp_length_< 1 year', 'home_ownership_ANY', 'home_ownership_MORTGAGE',\n",
      "       'home_ownership_NONE', 'home_ownership_OTHER', 'home_ownership_OWN',\n",
      "       'home_ownership_RENT', 'verification_status_Not Verified',\n",
      "       'verification_status_Source Verified', 'verification_status_Verified'],\n",
      "      dtype='object')\n",
      "        id  member_id  loan_amnt  int_rate  loan_status2  term_ 36 months  \\\n",
      "0  1077501    1296599     5000.0     10.65             0                1   \n",
      "1  1077430    1314167     2500.0     15.27             0                0   \n",
      "2  1077175    1313524     2400.0     15.96             0                1   \n",
      "3  1076863    1277178    10000.0     13.49             0                1   \n",
      "4  1075358    1311748     3000.0     12.69             0                0   \n",
      "\n",
      "   term_ 60 months  grade_A  grade_B  grade_C  ...  emp_length_< 1 year  \\\n",
      "0                0        0        1        0  ...                    0   \n",
      "1                1        0        0        1  ...                    1   \n",
      "2                0        0        0        1  ...                    0   \n",
      "3                0        0        0        1  ...                    0   \n",
      "4                1        0        1        0  ...                    0   \n",
      "\n",
      "   home_ownership_ANY  home_ownership_MORTGAGE  home_ownership_NONE  \\\n",
      "0                   0                        0                    0   \n",
      "1                   0                        0                    0   \n",
      "2                   0                        0                    0   \n",
      "3                   0                        0                    0   \n",
      "4                   0                        0                    0   \n",
      "\n",
      "   home_ownership_OTHER  home_ownership_OWN  home_ownership_RENT  \\\n",
      "0                     0                   0                    1   \n",
      "1                     0                   0                    1   \n",
      "2                     0                   0                    1   \n",
      "3                     0                   0                    1   \n",
      "4                     0                   0                    1   \n",
      "\n",
      "   verification_status_Not Verified  verification_status_Source Verified  \\\n",
      "0                                 0                                    0   \n",
      "1                                 0                                    1   \n",
      "2                                 1                                    0   \n",
      "3                                 0                                    1   \n",
      "4                                 0                                    1   \n",
      "\n",
      "   verification_status_Verified  \n",
      "0                             1  \n",
      "1                             0  \n",
      "2                             0  \n",
      "3                             0  \n",
      "4                             0  \n",
      "\n",
      "[5 rows x 69 columns]\n"
     ]
    }
   ],
   "source": [
    "# Separate the numeric columns\n",
    "cred_num = new_df2.select_dtypes(exclude=['object'])\n",
    "# Separate non-numeric columns\n",
    "cred_cat = new_df2.select_dtypes(include=['object'])\n",
    "# One-hot encode the non-numeric columns only\n",
    "cred_cat_onehot = pd.get_dummies(cred_cat)\n",
    "# Union the numeric columns with the one-hot encoded columns\n",
    "cr_loan = pd.concat([cred_num, cred_cat_onehot], axis=1)\n",
    "print(cr_loan.columns)\n",
    "print(cr_loan.head())"
   ]
  },
  {
   "cell_type": "code",
   "execution_count": 12,
   "id": "364aab89",
   "metadata": {},
   "outputs": [],
   "source": [
    "x = cr_loan.drop('loan_status2',axis=1)\n",
    "y = cr_loan[['loan_status2']]"
   ]
  },
  {
   "cell_type": "markdown",
   "id": "78dd7451",
   "metadata": {},
   "source": [
    "## Modeling"
   ]
  },
  {
   "cell_type": "code",
   "execution_count": 13,
   "id": "b6c275d3",
   "metadata": {},
   "outputs": [],
   "source": [
    "#pip install statsmodels\n",
    "import statsmodels.api as sm"
   ]
  },
  {
   "cell_type": "code",
   "execution_count": 14,
   "id": "ce074f0f",
   "metadata": {},
   "outputs": [
    {
     "name": "stdout",
     "output_type": "stream",
     "text": [
      "Warning: Maximum number of iterations has been exceeded.\n",
      "         Current function value: 0.009937\n",
      "         Iterations: 35\n"
     ]
    },
    {
     "name": "stderr",
     "output_type": "stream",
     "text": [
      "C:\\Users\\TOT_User\\anaconda3\\lib\\site-packages\\statsmodels\\base\\model.py:604: ConvergenceWarning: Maximum Likelihood optimization failed to converge. Check mle_retvals\n",
      "  warnings.warn(\"Maximum Likelihood optimization failed to \"\n"
     ]
    },
    {
     "name": "stdout",
     "output_type": "stream",
     "text": [
      "                                           Results: Logit\n",
      "=====================================================================================================\n",
      "Model:                           Logit                       Pseudo R-squared:            0.040      \n",
      "Dependent Variable:              loan_status2                AIC:                         16859.2022 \n",
      "Date:                            2022-07-28 17:37            BIC:                         17522.9212 \n",
      "No. Observations:                842554                      Log-Likelihood:              -8372.6    \n",
      "Df Model:                        56                          LL-Null:                     -8722.2    \n",
      "Df Residuals:                    842497                      LLR p-value:                 7.0061e-112\n",
      "Converged:                       0.0000                      Scale:                       1.0000     \n",
      "No. Iterations:                  35.0000                                                             \n",
      "-----------------------------------------------------------------------------------------------------\n",
      "                                     Coef.     Std.Err.      z    P>|z|      [0.025         0.975]   \n",
      "-----------------------------------------------------------------------------------------------------\n",
      "id                                   -0.0000       0.0000 -6.2853 0.0000        -0.0000       -0.0000\n",
      "member_id                             0.0000       0.0000  6.1588 0.0000         0.0000        0.0000\n",
      "loan_amnt                            -0.0000       0.0000 -0.1522 0.8790        -0.0000        0.0000\n",
      "int_rate                             -0.0016       0.0365 -0.0451 0.9640        -0.0732        0.0699\n",
      "term_ 36 months                      -4.3025 1107109.3912 -0.0000 1.0000  -2169898.8362  2169890.2311\n",
      "term_ 60 months                      -4.2869 1106880.8887 -0.0000 1.0000  -2169450.9639  2169442.3901\n",
      "grade_A                              -4.7242 6317979.4297 -0.0000 1.0000 -12383016.8614 12383007.4130\n",
      "grade_B                              -1.5127 2112570.1198 -0.0000 1.0000  -4140562.8622  4140559.8369\n",
      "grade_C                              -0.9510 1246950.6816 -0.0000 1.0000  -2443979.3775  2443977.4754\n",
      "grade_D                              -0.6087 1090893.6229 -0.0000 1.0000  -2138112.8206  2138111.6033\n",
      "grade_E                              -0.4046 1119731.9395 -0.0000 1.0000  -2194634.6784  2194633.8692\n",
      "grade_F                              -0.2780          nan     nan    nan            nan           nan\n",
      "grade_G                              -0.1103 9232819.7535 -0.0000 1.0000 -18095994.3029 18095994.0824\n",
      "sub_grade_A1                        -13.0341 4792041.4544 -0.0000 1.0000  -9392241.6971  9392215.6289\n",
      "sub_grade_A2                          1.8385 4800963.0512  0.0000 1.0000  -9409712.8330  9409716.5100\n",
      "sub_grade_A3                          1.9348 4783103.0942  0.0000 1.0000  -9374707.8642  9374711.7338\n",
      "sub_grade_A4                          1.9428 4793715.4689  0.0000 1.0000  -9395507.7284  9395511.6139\n",
      "sub_grade_A5                          2.5938 4784221.2948  0.0000 1.0000  -9376898.8382  9376904.0258\n",
      "sub_grade_B1                         -0.4097 1356306.6978 -0.0000 1.0000  -2658312.6894  2658311.8700\n",
      "sub_grade_B2                         -0.6685 1376571.7648 -0.0000 1.0000  -2698031.7496  2698030.4125\n",
      "sub_grade_B3                         -0.3847 1366517.5443 -0.0000 1.0000  -2678325.5557  2678324.7864\n",
      "sub_grade_B4                          0.0216 1365589.7929  0.0000 1.0000  -2676506.7901  2676506.8332\n",
      "sub_grade_B5                         -0.0713 1366503.9625 -0.0000 1.0000  -2678298.6226  2678298.4800\n",
      "sub_grade_C1                         -0.3174 2015055.6356 -0.0000 1.0000  -3949436.7900  3949436.1552\n",
      "sub_grade_C2                         -0.2296 2015055.6356 -0.0000 1.0000  -3949436.7022  3949436.2429\n",
      "sub_grade_C3                         -0.1683 2002578.3909 -0.0000 1.0000  -3924981.6908  3924981.3541\n",
      "sub_grade_C4                         -0.1841 2002578.3909 -0.0000 1.0000  -3924981.7065  3924981.3384\n",
      "sub_grade_C5                         -0.0516 2006746.0924 -0.0000 1.0000  -3933150.1188  3933150.0157\n",
      "sub_grade_D1                         -0.3847 2545550.6560 -0.0000 1.0000  -4989187.9913  4989187.2219\n",
      "sub_grade_D2                         -0.0212 2561826.4674 -0.0000 1.0000  -5021087.6319  5021087.5894\n",
      "sub_grade_D3                         -0.2651 2553142.1016 -0.0000 1.0000  -5004066.8317  5004066.3015\n",
      "sub_grade_D4                          0.0587 2548372.9757  0.0000 1.0000  -4994719.1929  4994719.3102\n",
      "sub_grade_D5                          0.0037 2549710.6759  0.0000 1.0000  -4997341.0921  4997341.0995\n",
      "sub_grade_E1                         -0.0886 2627352.5798 -0.0000 1.0000  -5149516.5198  5149516.3425\n",
      "sub_grade_E2                         -0.0847 2630260.5526 -0.0000 1.0000  -5155216.0377  5155215.8684\n",
      "sub_grade_E3                          0.0909 2629533.8609  0.0000 1.0000  -5153791.5726  5153791.7544\n",
      "sub_grade_E4                         -0.1775 2628079.8747 -0.0000 1.0000  -5150942.0804  5150941.7253\n",
      "sub_grade_E5                         -0.1447 2623713.0815 -0.0000 1.0000  -5142383.2902  5142383.0008\n",
      "sub_grade_F1                         -0.1703          nan     nan    nan            nan           nan\n",
      "sub_grade_F2                         -0.3223          nan     nan    nan            nan           nan\n",
      "sub_grade_F3                          0.4820          nan     nan    nan            nan           nan\n",
      "sub_grade_F4                         -0.2791          nan     nan    nan            nan           nan\n",
      "sub_grade_F5                          0.0117          nan     nan    nan            nan           nan\n",
      "sub_grade_G1                         -0.2115 9282618.4227 -0.0000 1.0000 -18193598.0021 18193597.5792\n",
      "sub_grade_G2                         -0.1225 9267338.3820 -0.0000 1.0000 -18163649.5837 18163649.3387\n",
      "sub_grade_G3                          0.2333 9267338.3820  0.0000 1.0000 -18163649.2279 18163649.6945\n",
      "sub_grade_G4                         -0.2755 9313103.2943 -0.0000 1.0000 -18253347.3166 18253346.7656\n",
      "sub_grade_G5                          0.2660 9290249.0186  0.0000 1.0000 -18208553.2179 18208553.7499\n",
      "emp_length_1 year                    -0.6249 1032191.9415 -0.0000 1.0000  -2023059.6553  2023058.4056\n",
      "emp_length_10+ years                 -0.8171 1036342.6192 -0.0000 1.0000  -2031195.0264  2031193.3923\n",
      "emp_length_2 years                   -1.0426 1035598.7535 -0.0000 1.0000  -2029737.3019  2029735.2168\n",
      "emp_length_3 years                   -0.7226 1035970.7532 -0.0000 1.0000  -2030466.0878  2030464.6426\n",
      "emp_length_4 years                   -0.8815 1033896.7507 -0.0000 1.0000  -2026401.2767  2026399.5137\n",
      "emp_length_5 years                   -0.8019 1034269.3625 -0.0000 1.0000  -2027131.5027  2027129.8988\n",
      "emp_length_6 years                   -0.7692 1032191.9415 -0.0000 1.0000  -2023059.7996  2023058.2613\n",
      "emp_length_7 years                   -0.6930 1036342.6191 -0.0000 1.0000  -2031194.9022  2031193.5161\n",
      "emp_length_8 years                   -0.5842 1031071.4499 -0.0000 1.0000  -2020863.4916  2020862.3231\n",
      "emp_length_9 years                   -0.7521 1031445.0824 -0.0000 1.0000  -2021595.9656  2021594.4614\n",
      "emp_length_< 1 year                  -0.9004 1031818.5795 -0.0000 1.0000  -2022328.1548  2022326.3540\n",
      "home_ownership_ANY                   -8.0778          nan     nan    nan            nan           nan\n",
      "home_ownership_MORTGAGE               2.3405          nan     nan    nan            nan           nan\n",
      "home_ownership_NONE                  -3.8324          nan     nan    nan            nan           nan\n",
      "home_ownership_OTHER                 -4.1899          nan     nan    nan            nan           nan\n",
      "home_ownership_OWN                    2.4442          nan     nan    nan            nan           nan\n",
      "home_ownership_RENT                   2.7259          nan     nan    nan            nan           nan\n",
      "verification_status_Not Verified     -2.9014          nan     nan    nan            nan           nan\n",
      "verification_status_Source Verified  -2.8132          nan     nan    nan            nan           nan\n",
      "verification_status_Verified         -2.8749          nan     nan    nan            nan           nan\n",
      "=====================================================================================================\n",
      "\n"
     ]
    }
   ],
   "source": [
    "logit_model=sm.Logit(y,x)\n",
    "result=logit_model.fit()\n",
    "print(result.summary2())"
   ]
  },
  {
   "cell_type": "code",
   "execution_count": 15,
   "id": "3eee3288",
   "metadata": {},
   "outputs": [
    {
     "data": {
      "text/html": [
       "<div>\n",
       "<style scoped>\n",
       "    .dataframe tbody tr th:only-of-type {\n",
       "        vertical-align: middle;\n",
       "    }\n",
       "\n",
       "    .dataframe tbody tr th {\n",
       "        vertical-align: top;\n",
       "    }\n",
       "\n",
       "    .dataframe thead th {\n",
       "        text-align: right;\n",
       "    }\n",
       "</style>\n",
       "<table border=\"1\" class=\"dataframe\">\n",
       "  <thead>\n",
       "    <tr style=\"text-align: right;\">\n",
       "      <th></th>\n",
       "      <th>p_value</th>\n",
       "    </tr>\n",
       "  </thead>\n",
       "  <tbody>\n",
       "    <tr>\n",
       "      <th>id</th>\n",
       "      <td>3.271642e-10</td>\n",
       "    </tr>\n",
       "    <tr>\n",
       "      <th>member_id</th>\n",
       "      <td>7.328081e-10</td>\n",
       "    </tr>\n",
       "    <tr>\n",
       "      <th>loan_amnt</th>\n",
       "      <td>8.790457e-01</td>\n",
       "    </tr>\n",
       "    <tr>\n",
       "      <th>int_rate</th>\n",
       "      <td>9.640040e-01</td>\n",
       "    </tr>\n",
       "    <tr>\n",
       "      <th>term_ 36 months</th>\n",
       "      <td>9.999969e-01</td>\n",
       "    </tr>\n",
       "    <tr>\n",
       "      <th>...</th>\n",
       "      <td>...</td>\n",
       "    </tr>\n",
       "    <tr>\n",
       "      <th>home_ownership_OWN</th>\n",
       "      <td>NaN</td>\n",
       "    </tr>\n",
       "    <tr>\n",
       "      <th>home_ownership_RENT</th>\n",
       "      <td>NaN</td>\n",
       "    </tr>\n",
       "    <tr>\n",
       "      <th>verification_status_Not Verified</th>\n",
       "      <td>NaN</td>\n",
       "    </tr>\n",
       "    <tr>\n",
       "      <th>verification_status_Source Verified</th>\n",
       "      <td>NaN</td>\n",
       "    </tr>\n",
       "    <tr>\n",
       "      <th>verification_status_Verified</th>\n",
       "      <td>NaN</td>\n",
       "    </tr>\n",
       "  </tbody>\n",
       "</table>\n",
       "<p>68 rows × 1 columns</p>\n",
       "</div>"
      ],
      "text/plain": [
       "                                          p_value\n",
       "id                                   3.271642e-10\n",
       "member_id                            7.328081e-10\n",
       "loan_amnt                            8.790457e-01\n",
       "int_rate                             9.640040e-01\n",
       "term_ 36 months                      9.999969e-01\n",
       "...                                           ...\n",
       "home_ownership_OWN                            NaN\n",
       "home_ownership_RENT                           NaN\n",
       "verification_status_Not Verified              NaN\n",
       "verification_status_Source Verified           NaN\n",
       "verification_status_Verified                  NaN\n",
       "\n",
       "[68 rows x 1 columns]"
      ]
     },
     "execution_count": 15,
     "metadata": {},
     "output_type": "execute_result"
    }
   ],
   "source": [
    "pvalue = pd.DataFrame(result.pvalues,columns={'p_value'},)\n",
    "pvalue"
   ]
  },
  {
   "cell_type": "markdown",
   "id": "39c4fbd7",
   "metadata": {},
   "source": [
    "## Creating the training and test sets"
   ]
  },
  {
   "cell_type": "code",
   "execution_count": 16,
   "id": "d556d90a",
   "metadata": {},
   "outputs": [
    {
     "name": "stderr",
     "output_type": "stream",
     "text": [
      "C:\\Users\\TOT_User\\anaconda3\\lib\\site-packages\\sklearn\\utils\\validation.py:1111: DataConversionWarning: A column-vector y was passed when a 1d array was expected. Please change the shape of y to (n_samples, ), for example using ravel().\n",
      "  y = column_or_1d(y, warn=True)\n"
     ]
    },
    {
     "data": {
      "text/html": [
       "<style>#sk-container-id-1 {color: black;background-color: white;}#sk-container-id-1 pre{padding: 0;}#sk-container-id-1 div.sk-toggleable {background-color: white;}#sk-container-id-1 label.sk-toggleable__label {cursor: pointer;display: block;width: 100%;margin-bottom: 0;padding: 0.3em;box-sizing: border-box;text-align: center;}#sk-container-id-1 label.sk-toggleable__label-arrow:before {content: \"▸\";float: left;margin-right: 0.25em;color: #696969;}#sk-container-id-1 label.sk-toggleable__label-arrow:hover:before {color: black;}#sk-container-id-1 div.sk-estimator:hover label.sk-toggleable__label-arrow:before {color: black;}#sk-container-id-1 div.sk-toggleable__content {max-height: 0;max-width: 0;overflow: hidden;text-align: left;background-color: #f0f8ff;}#sk-container-id-1 div.sk-toggleable__content pre {margin: 0.2em;color: black;border-radius: 0.25em;background-color: #f0f8ff;}#sk-container-id-1 input.sk-toggleable__control:checked~div.sk-toggleable__content {max-height: 200px;max-width: 100%;overflow: auto;}#sk-container-id-1 input.sk-toggleable__control:checked~label.sk-toggleable__label-arrow:before {content: \"▾\";}#sk-container-id-1 div.sk-estimator input.sk-toggleable__control:checked~label.sk-toggleable__label {background-color: #d4ebff;}#sk-container-id-1 div.sk-label input.sk-toggleable__control:checked~label.sk-toggleable__label {background-color: #d4ebff;}#sk-container-id-1 input.sk-hidden--visually {border: 0;clip: rect(1px 1px 1px 1px);clip: rect(1px, 1px, 1px, 1px);height: 1px;margin: -1px;overflow: hidden;padding: 0;position: absolute;width: 1px;}#sk-container-id-1 div.sk-estimator {font-family: monospace;background-color: #f0f8ff;border: 1px dotted black;border-radius: 0.25em;box-sizing: border-box;margin-bottom: 0.5em;}#sk-container-id-1 div.sk-estimator:hover {background-color: #d4ebff;}#sk-container-id-1 div.sk-parallel-item::after {content: \"\";width: 100%;border-bottom: 1px solid gray;flex-grow: 1;}#sk-container-id-1 div.sk-label:hover label.sk-toggleable__label {background-color: #d4ebff;}#sk-container-id-1 div.sk-serial::before {content: \"\";position: absolute;border-left: 1px solid gray;box-sizing: border-box;top: 0;bottom: 0;left: 50%;z-index: 0;}#sk-container-id-1 div.sk-serial {display: flex;flex-direction: column;align-items: center;background-color: white;padding-right: 0.2em;padding-left: 0.2em;position: relative;}#sk-container-id-1 div.sk-item {position: relative;z-index: 1;}#sk-container-id-1 div.sk-parallel {display: flex;align-items: stretch;justify-content: center;background-color: white;position: relative;}#sk-container-id-1 div.sk-item::before, #sk-container-id-1 div.sk-parallel-item::before {content: \"\";position: absolute;border-left: 1px solid gray;box-sizing: border-box;top: 0;bottom: 0;left: 50%;z-index: -1;}#sk-container-id-1 div.sk-parallel-item {display: flex;flex-direction: column;z-index: 1;position: relative;background-color: white;}#sk-container-id-1 div.sk-parallel-item:first-child::after {align-self: flex-end;width: 50%;}#sk-container-id-1 div.sk-parallel-item:last-child::after {align-self: flex-start;width: 50%;}#sk-container-id-1 div.sk-parallel-item:only-child::after {width: 0;}#sk-container-id-1 div.sk-dashed-wrapped {border: 1px dashed gray;margin: 0 0.4em 0.5em 0.4em;box-sizing: border-box;padding-bottom: 0.4em;background-color: white;}#sk-container-id-1 div.sk-label label {font-family: monospace;font-weight: bold;display: inline-block;line-height: 1.2em;}#sk-container-id-1 div.sk-label-container {text-align: center;}#sk-container-id-1 div.sk-container {/* jupyter's `normalize.less` sets `[hidden] { display: none; }` but bootstrap.min.css set `[hidden] { display: none !important; }` so we also need the `!important` here to be able to override the default hidden behavior on the sphinx rendered scikit-learn.org. See: https://github.com/scikit-learn/scikit-learn/issues/21755 */display: inline-block !important;position: relative;}#sk-container-id-1 div.sk-text-repr-fallback {display: none;}</style><div id=\"sk-container-id-1\" class=\"sk-top-container\"><div class=\"sk-text-repr-fallback\"><pre>LogisticRegression()</pre><b>In a Jupyter environment, please rerun this cell to show the HTML representation or trust the notebook. <br />On GitHub, the HTML representation is unable to render, please try loading this page with nbviewer.org.</b></div><div class=\"sk-container\" hidden><div class=\"sk-item\"><div class=\"sk-estimator sk-toggleable\"><input class=\"sk-toggleable__control sk-hidden--visually\" id=\"sk-estimator-id-1\" type=\"checkbox\" checked><label for=\"sk-estimator-id-1\" class=\"sk-toggleable__label sk-toggleable__label-arrow\">LogisticRegression</label><div class=\"sk-toggleable__content\"><pre>LogisticRegression()</pre></div></div></div></div></div>"
      ],
      "text/plain": [
       "LogisticRegression()"
      ]
     },
     "execution_count": 16,
     "metadata": {},
     "output_type": "execute_result"
    }
   ],
   "source": [
    "X_train, X_test, y_train, y_test = train_test_split(x, y, test_size=0.4, random_state=42)\n",
    "logreg = LogisticRegression()\n",
    "logreg.fit(X_train, y_train)"
   ]
  },
  {
   "cell_type": "markdown",
   "id": "e271d0c3",
   "metadata": {},
   "source": [
    "## Evaluation"
   ]
  },
  {
   "cell_type": "code",
   "execution_count": 17,
   "id": "6948c65f",
   "metadata": {},
   "outputs": [
    {
     "name": "stdout",
     "output_type": "stream",
     "text": [
      "Accuracy of logistic regression classifier on test set: 1.00\n"
     ]
    }
   ],
   "source": [
    "from sklearn.metrics import accuracy_score\n",
    "y_pred = logreg.predict(X_test)\n",
    "print('Accuracy of logistic regression classifier on test set: {:.2f}'.format(accuracy_score(y_test, y_pred)))"
   ]
  },
  {
   "cell_type": "code",
   "execution_count": 18,
   "id": "94a141a0",
   "metadata": {},
   "outputs": [
    {
     "name": "stdout",
     "output_type": "stream",
     "text": [
      "[[336566     10]\n",
      " [   446      0]]\n"
     ]
    }
   ],
   "source": [
    "from sklearn.metrics import confusion_matrix\n",
    "confusion_matrix = confusion_matrix(y_test, y_pred)\n",
    "print(confusion_matrix)"
   ]
  },
  {
   "cell_type": "code",
   "execution_count": 19,
   "id": "7cd91f76",
   "metadata": {},
   "outputs": [
    {
     "name": "stdout",
     "output_type": "stream",
     "text": [
      "\u001b[1m The result is telling us that we have:  336566 correct predictions\u001b[1m\n",
      "\u001b[1m The result is telling us that we have:  456 incorrect predictions\u001b[1m\n",
      "\u001b[1m We have a total predictions of:  337022\n"
     ]
    }
   ],
   "source": [
    "print(\"\\033[1m The result is telling us that we have: \",(confusion_matrix[0,0]+confusion_matrix[1,1]),\"correct predictions\\033[1m\")\n",
    "print(\"\\033[1m The result is telling us that we have: \",(confusion_matrix[0,1]+confusion_matrix[1,0]),\"incorrect predictions\\033[1m\")\n",
    "print(\"\\033[1m We have a total predictions of: \",(confusion_matrix.sum()))"
   ]
  },
  {
   "cell_type": "code",
   "execution_count": 20,
   "id": "c84faaed",
   "metadata": {},
   "outputs": [
    {
     "name": "stdout",
     "output_type": "stream",
     "text": [
      "              precision    recall  f1-score   support\n",
      "\n",
      "           0       1.00      1.00      1.00    336576\n",
      "           1       0.00      0.00      0.00       446\n",
      "\n",
      "    accuracy                           1.00    337022\n",
      "   macro avg       0.50      0.50      0.50    337022\n",
      "weighted avg       1.00      1.00      1.00    337022\n",
      "\n"
     ]
    }
   ],
   "source": [
    "from sklearn.metrics import classification_report\n",
    "print(classification_report(y_test, y_pred))"
   ]
  },
  {
   "cell_type": "code",
   "execution_count": 21,
   "id": "5c5ef59c",
   "metadata": {},
   "outputs": [
    {
     "data": {
      "image/png": "[encoded data removed]",
      "text/plain": [
       "<Figure size 432x288 with 1 Axes>"
      ]
     },
     "metadata": {
      "needs_background": "light"
     },
     "output_type": "display_data"
    }
   ],
   "source": [
    "from sklearn.metrics import roc_auc_score\n",
    "from sklearn.metrics import roc_curve\n",
    "sns.set(style=\"whitegrid\", color_codes=True)\n",
    "logit_roc_auc = roc_auc_score(y_test, logreg.predict(X_test))\n",
    "fpr, tpr, thresholds = roc_curve(y_test, logreg.predict_proba(X_test)[:,1])\n",
    "plt.figure()\n",
    "plt.plot(fpr, tpr, label='Logistic Regression (area = %0.2f)' % logit_roc_auc)\n",
    "plt.plot([0, 1], [0, 1],'r--')\n",
    "plt.xlim([0.0, 1.0])\n",
    "plt.ylim([0.0, 1.05])\n",
    "plt.xlabel('False Positive Rate')\n",
    "plt.ylabel('True Positive Rate')\n",
    "plt.title('Receiver operating characteristic')\n",
    "plt.legend(loc=\"lower right\")\n",
    "plt.savefig('Log_ROC')\n",
    "plt.show()"
   ]
  },
  {
   "cell_type": "markdown",
   "id": "9224f256",
   "metadata": {},
   "source": [
    "## Deployment "
   ]
  },
  {
   "cell_type": "code",
   "execution_count": 22,
   "id": "cbe4918d",
   "metadata": {},
   "outputs": [],
   "source": [
    "cr_loan['PD'] = logreg.predict_proba(cr_loan[X_train.columns])[:,1]\n",
    "#cr_loan[['id','member_id','PD']].head(10)"
   ]
  },
  {
   "cell_type": "code",
   "execution_count": 23,
   "id": "294b5cfd",
   "metadata": {
    "scrolled": true
   },
   "outputs": [
    {
     "data": {
      "text/html": [
       "<div>\n",
       "<style scoped>\n",
       "    .dataframe tbody tr th:only-of-type {\n",
       "        vertical-align: middle;\n",
       "    }\n",
       "\n",
       "    .dataframe tbody tr th {\n",
       "        vertical-align: top;\n",
       "    }\n",
       "\n",
       "    .dataframe thead th {\n",
       "        text-align: right;\n",
       "    }\n",
       "</style>\n",
       "<table border=\"1\" class=\"dataframe\">\n",
       "  <thead>\n",
       "    <tr style=\"text-align: right;\">\n",
       "      <th></th>\n",
       "      <th>id</th>\n",
       "      <th>member_id</th>\n",
       "      <th>loan_amnt</th>\n",
       "      <th>int_rate</th>\n",
       "      <th>loan_status2</th>\n",
       "      <th>term_ 36 months</th>\n",
       "      <th>term_ 60 months</th>\n",
       "      <th>grade_A</th>\n",
       "      <th>grade_B</th>\n",
       "      <th>grade_C</th>\n",
       "      <th>...</th>\n",
       "      <th>home_ownership_ANY</th>\n",
       "      <th>home_ownership_MORTGAGE</th>\n",
       "      <th>home_ownership_NONE</th>\n",
       "      <th>home_ownership_OTHER</th>\n",
       "      <th>home_ownership_OWN</th>\n",
       "      <th>home_ownership_RENT</th>\n",
       "      <th>verification_status_Not Verified</th>\n",
       "      <th>verification_status_Source Verified</th>\n",
       "      <th>verification_status_Verified</th>\n",
       "      <th>PD</th>\n",
       "    </tr>\n",
       "  </thead>\n",
       "  <tbody>\n",
       "    <tr>\n",
       "      <th>0</th>\n",
       "      <td>1077501</td>\n",
       "      <td>1296599</td>\n",
       "      <td>5000.0</td>\n",
       "      <td>10.65</td>\n",
       "      <td>0</td>\n",
       "      <td>1</td>\n",
       "      <td>0</td>\n",
       "      <td>0</td>\n",
       "      <td>1</td>\n",
       "      <td>0</td>\n",
       "      <td>...</td>\n",
       "      <td>0</td>\n",
       "      <td>0</td>\n",
       "      <td>0</td>\n",
       "      <td>0</td>\n",
       "      <td>0</td>\n",
       "      <td>1</td>\n",
       "      <td>0</td>\n",
       "      <td>0</td>\n",
       "      <td>1</td>\n",
       "      <td>0.053349</td>\n",
       "    </tr>\n",
       "    <tr>\n",
       "      <th>1</th>\n",
       "      <td>1077430</td>\n",
       "      <td>1314167</td>\n",
       "      <td>2500.0</td>\n",
       "      <td>15.27</td>\n",
       "      <td>0</td>\n",
       "      <td>0</td>\n",
       "      <td>1</td>\n",
       "      <td>0</td>\n",
       "      <td>0</td>\n",
       "      <td>1</td>\n",
       "      <td>...</td>\n",
       "      <td>0</td>\n",
       "      <td>0</td>\n",
       "      <td>0</td>\n",
       "      <td>0</td>\n",
       "      <td>0</td>\n",
       "      <td>1</td>\n",
       "      <td>0</td>\n",
       "      <td>1</td>\n",
       "      <td>0</td>\n",
       "      <td>0.182578</td>\n",
       "    </tr>\n",
       "    <tr>\n",
       "      <th>2</th>\n",
       "      <td>1077175</td>\n",
       "      <td>1313524</td>\n",
       "      <td>2400.0</td>\n",
       "      <td>15.96</td>\n",
       "      <td>0</td>\n",
       "      <td>1</td>\n",
       "      <td>0</td>\n",
       "      <td>0</td>\n",
       "      <td>0</td>\n",
       "      <td>1</td>\n",
       "      <td>...</td>\n",
       "      <td>0</td>\n",
       "      <td>0</td>\n",
       "      <td>0</td>\n",
       "      <td>0</td>\n",
       "      <td>0</td>\n",
       "      <td>1</td>\n",
       "      <td>1</td>\n",
       "      <td>0</td>\n",
       "      <td>0</td>\n",
       "      <td>0.190977</td>\n",
       "    </tr>\n",
       "    <tr>\n",
       "      <th>3</th>\n",
       "      <td>1076863</td>\n",
       "      <td>1277178</td>\n",
       "      <td>10000.0</td>\n",
       "      <td>13.49</td>\n",
       "      <td>0</td>\n",
       "      <td>1</td>\n",
       "      <td>0</td>\n",
       "      <td>0</td>\n",
       "      <td>0</td>\n",
       "      <td>1</td>\n",
       "      <td>...</td>\n",
       "      <td>0</td>\n",
       "      <td>0</td>\n",
       "      <td>0</td>\n",
       "      <td>0</td>\n",
       "      <td>0</td>\n",
       "      <td>1</td>\n",
       "      <td>0</td>\n",
       "      <td>1</td>\n",
       "      <td>0</td>\n",
       "      <td>0.003564</td>\n",
       "    </tr>\n",
       "    <tr>\n",
       "      <th>4</th>\n",
       "      <td>1075358</td>\n",
       "      <td>1311748</td>\n",
       "      <td>3000.0</td>\n",
       "      <td>12.69</td>\n",
       "      <td>0</td>\n",
       "      <td>0</td>\n",
       "      <td>1</td>\n",
       "      <td>0</td>\n",
       "      <td>1</td>\n",
       "      <td>0</td>\n",
       "      <td>...</td>\n",
       "      <td>0</td>\n",
       "      <td>0</td>\n",
       "      <td>0</td>\n",
       "      <td>0</td>\n",
       "      <td>0</td>\n",
       "      <td>1</td>\n",
       "      <td>0</td>\n",
       "      <td>1</td>\n",
       "      <td>0</td>\n",
       "      <td>0.144941</td>\n",
       "    </tr>\n",
       "  </tbody>\n",
       "</table>\n",
       "<p>5 rows × 70 columns</p>\n",
       "</div>"
      ],
      "text/plain": [
       "        id  member_id  loan_amnt  int_rate  loan_status2  term_ 36 months  \\\n",
       "0  1077501    1296599     5000.0     10.65             0                1   \n",
       "1  1077430    1314167     2500.0     15.27             0                0   \n",
       "2  1077175    1313524     2400.0     15.96             0                1   \n",
       "3  1076863    1277178    10000.0     13.49             0                1   \n",
       "4  1075358    1311748     3000.0     12.69             0                0   \n",
       "\n",
       "   term_ 60 months  grade_A  grade_B  grade_C  ...  home_ownership_ANY  \\\n",
       "0                0        0        1        0  ...                   0   \n",
       "1                1        0        0        1  ...                   0   \n",
       "2                0        0        0        1  ...                   0   \n",
       "3                0        0        0        1  ...                   0   \n",
       "4                1        0        1        0  ...                   0   \n",
       "\n",
       "   home_ownership_MORTGAGE  home_ownership_NONE  home_ownership_OTHER  \\\n",
       "0                        0                    0                     0   \n",
       "1                        0                    0                     0   \n",
       "2                        0                    0                     0   \n",
       "3                        0                    0                     0   \n",
       "4                        0                    0                     0   \n",
       "\n",
       "   home_ownership_OWN  home_ownership_RENT  verification_status_Not Verified  \\\n",
       "0                   0                    1                                 0   \n",
       "1                   0                    1                                 0   \n",
       "2                   0                    1                                 1   \n",
       "3                   0                    1                                 0   \n",
       "4                   0                    1                                 0   \n",
       "\n",
       "   verification_status_Source Verified  verification_status_Verified        PD  \n",
       "0                                    0                             1  0.053349  \n",
       "1                                    1                             0  0.182578  \n",
       "2                                    0                             0  0.190977  \n",
       "3                                    1                             0  0.003564  \n",
       "4                                    1                             0  0.144941  \n",
       "\n",
       "[5 rows x 70 columns]"
      ]
     },
     "execution_count": 23,
     "metadata": {},
     "output_type": "execute_result"
    }
   ],
   "source": [
    "cr_loan.head()"
   ]
  },
  {
   "cell_type": "code",
   "execution_count": 25,
   "id": "398c4eb3",
   "metadata": {},
   "outputs": [
    {
     "data": {
      "text/html": [
       "<div>\n",
       "<style scoped>\n",
       "    .dataframe tbody tr th:only-of-type {\n",
       "        vertical-align: middle;\n",
       "    }\n",
       "\n",
       "    .dataframe tbody tr th {\n",
       "        vertical-align: top;\n",
       "    }\n",
       "\n",
       "    .dataframe thead th {\n",
       "        text-align: right;\n",
       "    }\n",
       "</style>\n",
       "<table border=\"1\" class=\"dataframe\">\n",
       "  <thead>\n",
       "    <tr style=\"text-align: right;\">\n",
       "      <th></th>\n",
       "      <th>id</th>\n",
       "      <th>member_id</th>\n",
       "      <th>PD</th>\n",
       "    </tr>\n",
       "  </thead>\n",
       "  <tbody>\n",
       "    <tr>\n",
       "      <th>count</th>\n",
       "      <td>8.425540e+05</td>\n",
       "      <td>8.425540e+05</td>\n",
       "      <td>8.425540e+05</td>\n",
       "    </tr>\n",
       "    <tr>\n",
       "      <th>mean</th>\n",
       "      <td>3.229192e+07</td>\n",
       "      <td>3.481713e+07</td>\n",
       "      <td>5.814854e-03</td>\n",
       "    </tr>\n",
       "    <tr>\n",
       "      <th>std</th>\n",
       "      <td>2.283990e+07</td>\n",
       "      <td>2.412888e+07</td>\n",
       "      <td>2.572176e-02</td>\n",
       "    </tr>\n",
       "    <tr>\n",
       "      <th>min</th>\n",
       "      <td>5.473400e+04</td>\n",
       "      <td>7.047300e+04</td>\n",
       "      <td>1.411720e-11</td>\n",
       "    </tr>\n",
       "    <tr>\n",
       "      <th>25%</th>\n",
       "      <td>9.045221e+06</td>\n",
       "      <td>1.077843e+07</td>\n",
       "      <td>7.053834e-07</td>\n",
       "    </tr>\n",
       "    <tr>\n",
       "      <th>50%</th>\n",
       "      <td>3.431206e+07</td>\n",
       "      <td>3.696627e+07</td>\n",
       "      <td>3.600684e-05</td>\n",
       "    </tr>\n",
       "    <tr>\n",
       "      <th>75%</th>\n",
       "      <td>5.452373e+07</td>\n",
       "      <td>5.809579e+07</td>\n",
       "      <td>8.381201e-04</td>\n",
       "    </tr>\n",
       "    <tr>\n",
       "      <th>max</th>\n",
       "      <td>6.861706e+07</td>\n",
       "      <td>7.354484e+07</td>\n",
       "      <td>9.971857e-01</td>\n",
       "    </tr>\n",
       "  </tbody>\n",
       "</table>\n",
       "</div>"
      ],
      "text/plain": [
       "                 id     member_id            PD\n",
       "count  8.425540e+05  8.425540e+05  8.425540e+05\n",
       "mean   3.229192e+07  3.481713e+07  5.814854e-03\n",
       "std    2.283990e+07  2.412888e+07  2.572176e-02\n",
       "min    5.473400e+04  7.047300e+04  1.411720e-11\n",
       "25%    9.045221e+06  1.077843e+07  7.053834e-07\n",
       "50%    3.431206e+07  3.696627e+07  3.600684e-05\n",
       "75%    5.452373e+07  5.809579e+07  8.381201e-04\n",
       "max    6.861706e+07  7.354484e+07  9.971857e-01"
      ]
     },
     "execution_count": 25,
     "metadata": {},
     "output_type": "execute_result"
    }
   ],
   "source": [
    "cr_loan_PD = cr_loan[['id','member_id','PD']]\n",
    "cr_loan_PD.describe()"
   ]
  },
  {
   "cell_type": "code",
   "execution_count": 26,
   "id": "872c0ad2",
   "metadata": {},
   "outputs": [
    {
     "data": {
      "text/html": [
       "<div>\n",
       "<style scoped>\n",
       "    .dataframe tbody tr th:only-of-type {\n",
       "        vertical-align: middle;\n",
       "    }\n",
       "\n",
       "    .dataframe tbody tr th {\n",
       "        vertical-align: top;\n",
       "    }\n",
       "\n",
       "    .dataframe thead th {\n",
       "        text-align: right;\n",
       "    }\n",
       "</style>\n",
       "<table border=\"1\" class=\"dataframe\">\n",
       "  <thead>\n",
       "    <tr style=\"text-align: right;\">\n",
       "      <th></th>\n",
       "      <th>id</th>\n",
       "      <th>member_id</th>\n",
       "      <th>PD</th>\n",
       "    </tr>\n",
       "  </thead>\n",
       "  <tbody>\n",
       "    <tr>\n",
       "      <th>0</th>\n",
       "      <td>1077501</td>\n",
       "      <td>1296599</td>\n",
       "      <td>0.053349</td>\n",
       "    </tr>\n",
       "    <tr>\n",
       "      <th>1</th>\n",
       "      <td>1077430</td>\n",
       "      <td>1314167</td>\n",
       "      <td>0.182578</td>\n",
       "    </tr>\n",
       "    <tr>\n",
       "      <th>2</th>\n",
       "      <td>1077175</td>\n",
       "      <td>1313524</td>\n",
       "      <td>0.190977</td>\n",
       "    </tr>\n",
       "    <tr>\n",
       "      <th>3</th>\n",
       "      <td>1076863</td>\n",
       "      <td>1277178</td>\n",
       "      <td>0.003564</td>\n",
       "    </tr>\n",
       "    <tr>\n",
       "      <th>4</th>\n",
       "      <td>1075358</td>\n",
       "      <td>1311748</td>\n",
       "      <td>0.144941</td>\n",
       "    </tr>\n",
       "    <tr>\n",
       "      <th>5</th>\n",
       "      <td>1075269</td>\n",
       "      <td>1311441</td>\n",
       "      <td>0.053197</td>\n",
       "    </tr>\n",
       "    <tr>\n",
       "      <th>6</th>\n",
       "      <td>1069639</td>\n",
       "      <td>1304742</td>\n",
       "      <td>0.018292</td>\n",
       "    </tr>\n",
       "    <tr>\n",
       "      <th>7</th>\n",
       "      <td>1072053</td>\n",
       "      <td>1288686</td>\n",
       "      <td>0.145425</td>\n",
       "    </tr>\n",
       "    <tr>\n",
       "      <th>8</th>\n",
       "      <td>1071795</td>\n",
       "      <td>1306957</td>\n",
       "      <td>0.038792</td>\n",
       "    </tr>\n",
       "    <tr>\n",
       "      <th>9</th>\n",
       "      <td>1071570</td>\n",
       "      <td>1306721</td>\n",
       "      <td>0.043701</td>\n",
       "    </tr>\n",
       "  </tbody>\n",
       "</table>\n",
       "</div>"
      ],
      "text/plain": [
       "        id  member_id        PD\n",
       "0  1077501    1296599  0.053349\n",
       "1  1077430    1314167  0.182578\n",
       "2  1077175    1313524  0.190977\n",
       "3  1076863    1277178  0.003564\n",
       "4  1075358    1311748  0.144941\n",
       "5  1075269    1311441  0.053197\n",
       "6  1069639    1304742  0.018292\n",
       "7  1072053    1288686  0.145425\n",
       "8  1071795    1306957  0.038792\n",
       "9  1071570    1306721  0.043701"
      ]
     },
     "execution_count": 26,
     "metadata": {},
     "output_type": "execute_result"
    }
   ],
   "source": [
    "cr_loan_PD.head(10)"
   ]
  },
  {
   "cell_type": "markdown",
   "id": "7d8b70f7",
   "metadata": {},
   "source": [
    "## Setting the threshold"
   ]
  },
  {
   "cell_type": "code",
   "execution_count": null,
   "id": "04820565",
   "metadata": {},
   "outputs": [],
   "source": [
    "'''cr_loan_PD['loan_status'] = cr_loan_PD['PD'].apply(lambda x: 1 if x > 0.5 else 0)\n",
    "cr_loan_PD.head(10)'''"
   ]
  }
 ],
 "metadata": {
  "kernelspec": {
   "display_name": "Python 3 (ipykernel)",
   "language": "python",
   "name": "python3"
  },
  "language_info": {
   "codemirror_mode": {
    "name": "ipython",
    "version": 3
   },
   "file_extension": ".py",
   "mimetype": "text/x-python",
   "name": "python",
   "nbconvert_exporter": "python",
   "pygments_lexer": "ipython3",
   "version": "3.8.3"
  }
 },
 "nbformat": 4,
 "nbformat_minor": 5
}

{
 "cells": [
  {
   "cell_type": "code",
   "execution_count": 1,
   "id": "dc722273",
   "metadata": {},
   "outputs": [],
   "source": [
    "#Install the packages below\n",
    "\n",
    "#!pip install pandas\n",
    "#!pip install numpy\n",
    "#!pip install pandas-datareader\n",
    "#!pip install arch"
   ]
  },
  {
   "cell_type": "code",
   "execution_count": 2,
   "id": "cafcb602",
   "metadata": {},
   "outputs": [],
   "source": [
    "# Import these packages\n",
    "import pandas as pd\n",
    "import numpy as np\n",
    "import pandas_datareader.data as pdr\n",
    "import arch"
   ]
  },
  {
   "cell_type": "code",
   "execution_count": 4,
   "id": "cd8637d7",
   "metadata": {},
   "outputs": [
    {
     "name": "stdout",
     "output_type": "stream",
     "text": [
      "Index(['High', 'Low', 'Open', 'Close', 'Volume', 'Adj Close'], dtype='object')\n"
     ]
    }
   ],
   "source": [
    "Bitcoin = pdr.get_data_yahoo(\"BTC-USD\", start=\"2022-04-27\", end=\"2022-07-27\")\n",
    "print(Bitcoin.columns)"
   ]
  },
  {
   "cell_type": "code",
   "execution_count": 5,
   "id": "8ba50240",
   "metadata": {
    "scrolled": true
   },
   "outputs": [
    {
     "name": "stderr",
     "output_type": "stream",
     "text": [
      "C:\\Users\\TOT_User\\AppData\\Local\\Temp\\ipykernel_9260\\111969909.py:3: SettingWithCopyWarning: \n",
      "A value is trying to be set on a copy of a slice from a DataFrame.\n",
      "Try using .loc[row_indexer,col_indexer] = value instead\n",
      "\n",
      "See the caveats in the documentation: https://pandas.pydata.org/pandas-docs/stable/user_guide/indexing.html#returning-a-view-versus-a-copy\n",
      "  stock_data[\"log\"] = np.log(stock_data)-np.log(stock_data.shift(1))\n"
     ]
    },
    {
     "data": {
      "text/html": [
       "<div>\n",
       "<style scoped>\n",
       "    .dataframe tbody tr th:only-of-type {\n",
       "        vertical-align: middle;\n",
       "    }\n",
       "\n",
       "    .dataframe tbody tr th {\n",
       "        vertical-align: top;\n",
       "    }\n",
       "\n",
       "    .dataframe thead th {\n",
       "        text-align: right;\n",
       "    }\n",
       "</style>\n",
       "<table border=\"1\" class=\"dataframe\">\n",
       "  <thead>\n",
       "    <tr style=\"text-align: right;\">\n",
       "      <th></th>\n",
       "      <th>Close</th>\n",
       "      <th>log</th>\n",
       "    </tr>\n",
       "    <tr>\n",
       "      <th>Date</th>\n",
       "      <th></th>\n",
       "      <th></th>\n",
       "    </tr>\n",
       "  </thead>\n",
       "  <tbody>\n",
       "    <tr>\n",
       "      <th>2022-07-23</th>\n",
       "      <td>22465.478516</td>\n",
       "      <td>-0.011045</td>\n",
       "    </tr>\n",
       "    <tr>\n",
       "      <th>2022-07-24</th>\n",
       "      <td>22609.164062</td>\n",
       "      <td>0.006375</td>\n",
       "    </tr>\n",
       "    <tr>\n",
       "      <th>2022-07-25</th>\n",
       "      <td>21361.701172</td>\n",
       "      <td>-0.056756</td>\n",
       "    </tr>\n",
       "    <tr>\n",
       "      <th>2022-07-26</th>\n",
       "      <td>21239.753906</td>\n",
       "      <td>-0.005725</td>\n",
       "    </tr>\n",
       "    <tr>\n",
       "      <th>2022-07-27</th>\n",
       "      <td>22930.548828</td>\n",
       "      <td>0.076595</td>\n",
       "    </tr>\n",
       "  </tbody>\n",
       "</table>\n",
       "</div>"
      ],
      "text/plain": [
       "                   Close       log\n",
       "Date                              \n",
       "2022-07-23  22465.478516 -0.011045\n",
       "2022-07-24  22609.164062  0.006375\n",
       "2022-07-25  21361.701172 -0.056756\n",
       "2022-07-26  21239.753906 -0.005725\n",
       "2022-07-27  22930.548828  0.076595"
      ]
     },
     "execution_count": 5,
     "metadata": {},
     "output_type": "execute_result"
    }
   ],
   "source": [
    "# Create new variable name stock_data\n",
    "stock_data = Bitcoin[['Close']]\n",
    "stock_data[\"log\"] = np.log(stock_data)-np.log(stock_data.shift(1))\n",
    "stock_data.tail()"
   ]
  },
  {
   "cell_type": "code",
   "execution_count": 6,
   "id": "0ddb04f8",
   "metadata": {},
   "outputs": [
    {
     "data": {
      "text/html": [
       "<div>\n",
       "<style scoped>\n",
       "    .dataframe tbody tr th:only-of-type {\n",
       "        vertical-align: middle;\n",
       "    }\n",
       "\n",
       "    .dataframe tbody tr th {\n",
       "        vertical-align: top;\n",
       "    }\n",
       "\n",
       "    .dataframe thead th {\n",
       "        text-align: right;\n",
       "    }\n",
       "</style>\n",
       "<table border=\"1\" class=\"dataframe\">\n",
       "  <thead>\n",
       "    <tr style=\"text-align: right;\">\n",
       "      <th></th>\n",
       "      <th>Close</th>\n",
       "      <th>log</th>\n",
       "    </tr>\n",
       "  </thead>\n",
       "  <tbody>\n",
       "    <tr>\n",
       "      <th>count</th>\n",
       "      <td>93.000000</td>\n",
       "      <td>92.000000</td>\n",
       "    </tr>\n",
       "    <tr>\n",
       "      <th>mean</th>\n",
       "      <td>26676.690125</td>\n",
       "      <td>-0.005524</td>\n",
       "    </tr>\n",
       "    <tr>\n",
       "      <th>std</th>\n",
       "      <td>6142.637953</td>\n",
       "      <td>0.041463</td>\n",
       "    </tr>\n",
       "    <tr>\n",
       "      <th>min</th>\n",
       "      <td>19017.642578</td>\n",
       "      <td>-0.174053</td>\n",
       "    </tr>\n",
       "    <tr>\n",
       "      <th>25%</th>\n",
       "      <td>20860.449219</td>\n",
       "      <td>-0.025221</td>\n",
       "    </tr>\n",
       "    <tr>\n",
       "      <th>50%</th>\n",
       "      <td>28360.810547</td>\n",
       "      <td>-0.002464</td>\n",
       "    </tr>\n",
       "    <tr>\n",
       "      <th>75%</th>\n",
       "      <td>30296.953125</td>\n",
       "      <td>0.017558</td>\n",
       "    </tr>\n",
       "    <tr>\n",
       "      <th>max</th>\n",
       "      <td>39773.828125</td>\n",
       "      <td>0.078920</td>\n",
       "    </tr>\n",
       "  </tbody>\n",
       "</table>\n",
       "</div>"
      ],
      "text/plain": [
       "              Close        log\n",
       "count     93.000000  92.000000\n",
       "mean   26676.690125  -0.005524\n",
       "std     6142.637953   0.041463\n",
       "min    19017.642578  -0.174053\n",
       "25%    20860.449219  -0.025221\n",
       "50%    28360.810547  -0.002464\n",
       "75%    30296.953125   0.017558\n",
       "max    39773.828125   0.078920"
      ]
     },
     "execution_count": 6,
     "metadata": {},
     "output_type": "execute_result"
    }
   ],
   "source": [
    "stock_data.describe()"
   ]
  },
  {
   "cell_type": "code",
   "execution_count": 7,
   "id": "f1588e58",
   "metadata": {},
   "outputs": [
    {
     "data": {
      "text/plain": [
       "0.04146271734626344"
      ]
     },
     "execution_count": 7,
     "metadata": {},
     "output_type": "execute_result"
    }
   ],
   "source": [
    "vol = stock_data.log.std()\n",
    "vol"
   ]
  },
  {
   "cell_type": "markdown",
   "id": "fa8153a1",
   "metadata": {},
   "source": [
    "## **A.**"
   ]
  },
  {
   "cell_type": "markdown",
   "id": "3f3b5c19",
   "metadata": {},
   "source": [
    "### *Compute Historical Volatility*"
   ]
  },
  {
   "cell_type": "code",
   "execution_count": 8,
   "id": "4c601857",
   "metadata": {},
   "outputs": [
    {
     "name": "stdout",
     "output_type": "stream",
     "text": [
      "0.04123676080112792\n"
     ]
    }
   ],
   "source": [
    "log_returns = np.log(stock_data.Close/stock_data.Close.shift(1))\n",
    "#print(log_returns)\n",
    "sum_log_returns = 0\n",
    "mean_log_returns = log_returns.mean()\n",
    "for i in range(1,len(log_returns)):\n",
    "    sum_log_returns += (log_returns.iloc[i]-mean_log_returns)**2\n",
    "variance = sum_log_returns/(len(log_returns)-1)\n",
    "vol = np.sqrt(variance)\n",
    "print(vol)"
   ]
  },
  {
   "cell_type": "code",
   "execution_count": 9,
   "id": "295ab586",
   "metadata": {},
   "outputs": [
    {
     "data": {
      "text/plain": [
       "0.04123676080112789"
      ]
     },
     "execution_count": 9,
     "metadata": {},
     "output_type": "execute_result"
    }
   ],
   "source": [
    "np.std(stock_data.log)"
   ]
  },
  {
   "cell_type": "code",
   "execution_count": 10,
   "id": "de32220e",
   "metadata": {},
   "outputs": [
    {
     "name": "stdout",
     "output_type": "stream",
     "text": [
      "0.04124344034168868\n"
     ]
    }
   ],
   "source": [
    "st = stock_data[\"log\"].dropna().ewm(span=365).std()\n",
    "sigma = st.iloc[-1]\n",
    "print(sigma)"
   ]
  },
  {
   "cell_type": "markdown",
   "id": "4087ca54",
   "metadata": {},
   "source": [
    "### *Compute Stochastic Volatility*"
   ]
  },
  {
   "cell_type": "code",
   "execution_count": 11,
   "id": "c803dc06",
   "metadata": {},
   "outputs": [
    {
     "name": "stdout",
     "output_type": "stream",
     "text": [
      "Iteration:      1,   Func. Count:      5,   Neg. LLF: -50.669070635183566\n",
      "Iteration:      2,   Func. Count:     12,   Neg. LLF: -160.63353257399086\n",
      "Iteration:      3,   Func. Count:     17,   Neg. LLF: -158.83522721667165\n",
      "Iteration:      4,   Func. Count:     22,   Neg. LLF: -161.30373986842426\n",
      "Iteration:      5,   Func. Count:     27,   Neg. LLF: -162.9106332772324\n",
      "Iteration:      6,   Func. Count:     31,   Neg. LLF: -162.91075008967093\n",
      "Iteration:      7,   Func. Count:     35,   Neg. LLF: -162.91075836283534\n",
      "Iteration:      8,   Func. Count:     38,   Neg. LLF: -162.91075836281382\n",
      "Optimization terminated successfully    (Exit mode 0)\n",
      "            Current function value: -162.91075836283534\n",
      "            Iterations: 8\n",
      "            Function evaluations: 38\n",
      "            Gradient evaluations: 8\n",
      "h.1    0.00309\n",
      "Name: 2022-07-27 00:00:00, dtype: float64\n",
      "0.055589526534618974\n"
     ]
    },
    {
     "name": "stderr",
     "output_type": "stream",
     "text": [
      "C:\\Users\\TOT_User\\anaconda3\\lib\\site-packages\\arch\\univariate\\base.py:309: DataScaleWarning: y is poorly scaled, which may affect convergence of the optimizer when\n",
      "estimating the model parameters. The scale of y is 0.0017. Parameter\n",
      "estimation work better when this value is between 1 and 1000. The recommended\n",
      "rescaling is 10 * y.\n",
      "\n",
      "This warning can be disabled by either rescaling y before initializing the\n",
      "model or by setting rescale=False.\n",
      "\n",
      "  warnings.warn(\n",
      "C:\\Users\\TOT_User\\anaconda3\\lib\\site-packages\\arch\\__future__\\_utility.py:11: FutureWarning: \n",
      "The default for reindex is True. After September 2021 this will change to\n",
      "False. Set reindex to True or False to silence this message. Alternatively,\n",
      "you can use the import comment\n",
      "\n",
      "from arch.__future__ import reindexing\n",
      "\n",
      "to globally set reindex to True and silence this warning.\n",
      "\n",
      "  warnings.warn(\n"
     ]
    }
   ],
   "source": [
    "model = arch.arch_model(stock_data.log.dropna(), mean='Zero', vol='GARCH', p=1, q=1)\n",
    "model_fit = model.fit()\n",
    "forecast = model_fit.forecast(horizon = 1) \n",
    "var = forecast.variance.iloc[-1]\n",
    "print(var)\n",
    "sigma = float(np.sqrt(var))\n",
    "print(sigma)"
   ]
  },
  {
   "cell_type": "markdown",
   "id": "3a0ab60a",
   "metadata": {},
   "source": [
    "### *Compute Implied Volatility*"
   ]
  },
  {
   "cell_type": "code",
   "execution_count": 12,
   "id": "2c70603c",
   "metadata": {},
   "outputs": [
    {
     "data": {
      "text/plain": [
       "'def find_iv_newton(S, K, r, t, market_price):\\n    _sigma = 0.5\\n    for i in range(MAX_TRY):\\n        Put_Price = bs_price(S, K, r, t, sigma=_sigma)\\n        diff = market_price - Put_Price[0]\\n        vega = S*N_price(Put_Price[1])*sqrt(t)\\n        if abs(diff) < ONE_CENT:\\n            return _sigma\\n        _sigma += diff/vega\\n    return _sigma'"
      ]
     },
     "execution_count": 12,
     "metadata": {},
     "output_type": "execute_result"
    }
   ],
   "source": [
    "#!pip install scipy\n",
    "import scipy.stats\n",
    "from numpy import sqrt, log, exp, pi\n",
    "\n",
    "N = scipy.stats.norm.cdf\n",
    "ONE_CENT = 0.1\n",
    "step = 0.0001\n",
    "N_price = scipy.stats.norm.pdf\n",
    "MAX_TRY = 1000\n",
    "\n",
    "def bs_price(S, K, r, t, sigma):\n",
    "    d1 = (log(S/K) + (r+sigma**2/2)*t) / (sigma*sqrt(t))\n",
    "    d2 = d1 - sigma * sqrt(t)\n",
    "    Put_Price = N(-d2) * K * exp(-r*t) - N(-d1) * S \n",
    "    return Put_Price,d1,d2 \n",
    "\n",
    "\n",
    "def brute_force(S, K, r, t, market_price):\n",
    "    _sigma = 0.5\n",
    "    for i in range(10000): #max number of calculations is 10000\n",
    "        Put_Price = bs_price(S, K, r, t, sigma = _sigma)\n",
    "        diff = market_price - Put_Price[0]\n",
    "        if diff > ONE_CENT:\n",
    "            _sigma = _sigma + step\n",
    "        elif diff < 0 and abs(diff) > ONE_CENT:\n",
    "            _sigma = _sigma - step\n",
    "        elif abs(diff) < ONE_CENT:\n",
    "            return _sigma\n",
    "    return _sigma\n",
    "    \n",
    "'''def find_iv_newton(S, K, r, t, market_price):\n",
    "    _sigma = 0.5\n",
    "    for i in range(MAX_TRY):\n",
    "        Put_Price = bs_price(S, K, r, t, sigma=_sigma)\n",
    "        diff = market_price - Put_Price[0]\n",
    "        vega = S*N_price(Put_Price[1])*sqrt(t)\n",
    "        if abs(diff) < ONE_CENT:\n",
    "            return _sigma\n",
    "        _sigma += diff/vega\n",
    "    return _sigma'''"
   ]
  },
  {
   "cell_type": "code",
   "execution_count": 13,
   "id": "2737a622",
   "metadata": {},
   "outputs": [
    {
     "name": "stdout",
     "output_type": "stream",
     "text": [
      "1.4999999999998899\n",
      "finished in 3.936225175857544 seconds\n"
     ]
    },
    {
     "data": {
      "text/plain": [
       "\"\\nstart = time.time()\\nsigma2 = find_iv_newton(21500,17200,0.02,30/365, 21239.75)\\nprint(sigma2)\\nprint(f'finished in {time.time() - start} seconds')\""
      ]
     },
     "execution_count": 13,
     "metadata": {},
     "output_type": "execute_result"
    }
   ],
   "source": [
    "#!pip install times\n",
    "import time\n",
    "start = time.time()\n",
    "sigma = brute_force(21500,17200,0.02,30/365, 21239.75)\n",
    "print(sigma)\n",
    "print(f'finished in {time.time() - start} seconds')\n",
    "'''\n",
    "start = time.time()\n",
    "sigma2 = find_iv_newton(21500,17200,0.02,30/365, 21239.75)\n",
    "print(sigma2)\n",
    "print(f'finished in {time.time() - start} seconds')'''"
   ]
  },
  {
   "cell_type": "markdown",
   "id": "022ff3c9",
   "metadata": {},
   "source": [
    "## B.\n",
    "\n",
    "### **Actual Volatility**\n",
    "         This is the measure of the amount of randomness in an asset return at any particular time. It is very difficult to measure, but is supposed to be an input into all option pricing models.\n",
    "    • There is no ‘timescale’ associated with actual volatility; it is a quantity that exists at each instant, possibly \n",
    "    varying from moment to moment."
   ]
  },
  {
   "cell_type": "markdown",
   "id": "dfaa9f8c",
   "metadata": {},
   "source": [
    "### **Historical Volatility**\n",
    "        This is a measure of the amount of randomness over some period in the past. The period is always specified, and so \n",
    "        is the mathematical method for its calculation. Sometimes this backward-looking measure is used as an estimate for \n",
    "        what volatility will be in the future.\n",
    "        • There are two ‘timescales’ associated with historical volatility: one short, and one long.\n",
    "Example: The 60-day volatility using daily returns. Perhaps of interest if you are pricing a 60-day option, which you are hedging daily.In pricing an option we are making an estimate of what actual volatility will be over the lifetime of the option. After the option has expired we can go back and calculate what the volatility actually was over the life of the option.\n",
    "    \n",
    "      Example: I sold a 30-day option for a 30% volatility, I hedged it every day. Did I make money?"
   ]
  },
  {
   "cell_type": "markdown",
   "id": "42f04fd8",
   "metadata": {},
   "source": [
    "### Implied Volatility\n",
    "    The implied volatility is the volatility which when input into the Black–Scholes option pricing formulae gives the       market price of the option. It is often described as the market’s view of the future actual volatility over the lifetime of the particular option. However, it is also influenced by other effects such as supply and demand. \n",
    "    • There is one ‘timescale’ associated with implied volatility: expiration."
   ]
  },
  {
   "cell_type": "markdown",
   "id": "26bb736f",
   "metadata": {},
   "source": [
    "### Stochastic Volatility \n",
    "    refers to the fact that the volatility of asset prices varies and is not constant, as is assumed in the Black Scholes options pricing model. Stochastic volatility modeling attempts to correct for this problem with Black Scholes by allowing volatility to fluctuate over time."
   ]
  },
  {
   "cell_type": "markdown",
   "id": "76076a97",
   "metadata": {},
   "source": [
    "## C. Pricing Put Option"
   ]
  },
  {
   "cell_type": "markdown",
   "id": "42d324ad",
   "metadata": {},
   "source": [
    "### i) Black Scholes Model"
   ]
  },
  {
   "cell_type": "code",
   "execution_count": 14,
   "id": "6b3176ed",
   "metadata": {},
   "outputs": [],
   "source": [
    "from scipy.stats import norm \n",
    "import matplotlib.pyplot as plt"
   ]
  },
  {
   "cell_type": "code",
   "execution_count": 15,
   "id": "6d395b3d",
   "metadata": {},
   "outputs": [],
   "source": [
    "def calculate_put_option_price(S,T,r,sigma): \n",
    "    \"\"\"\n",
    "    Calculates price for put option according to the formula.        \n",
    "    Formula: PresentValue(K)*N(-d2) - S*N(-d1)\n",
    "    \"\"\"\n",
    "    T /= 365\n",
    "    K = 0.8*S\n",
    "    # cumulative function of standard normal distribution (risk-adjusted probability that the option will be exercised)    \n",
    "    d1 = (np.log(S/K) + (r + 0.5 * sigma ** 2) * T) / (sigma * np.sqrt(T))\n",
    "\n",
    "    # cumulative function of standard normal distribution (probability of receiving the stock at expiration of the option)\n",
    "    d2 = (np.log(S/K) + (r - 0.5 * sigma ** 2) * T) / (sigma * np.sqrt(T))\n",
    "\n",
    "    return (K * np.exp(-r * T) * norm.cdf(-d2, 0.0, 1.0) - S * norm.cdf(-d1, 0.0, 1.0))"
   ]
  },
  {
   "cell_type": "code",
   "execution_count": 16,
   "id": "3d7aea6e",
   "metadata": {},
   "outputs": [
    {
     "data": {
      "text/plain": [
       "1558.5089728080457"
      ]
     },
     "execution_count": 16,
     "metadata": {},
     "output_type": "execute_result"
    }
   ],
   "source": [
    "S_0 = 21500\n",
    "T = 30\n",
    "r = 0.02\n",
    "sigma = 1.5\n",
    "Put_Price = calculate_put_option_price(S_0,T,r,sigma)\n",
    "Put_Price"
   ]
  },
  {
   "cell_type": "markdown",
   "id": "be21aaa7",
   "metadata": {},
   "source": [
    "### ii) Finite Difference Method"
   ]
  },
  {
   "cell_type": "code",
   "execution_count": 17,
   "id": "1188f0da",
   "metadata": {},
   "outputs": [],
   "source": [
    "#!pip install mplot3d-dragger\n",
    "from mpl_toolkits.mplot3d import Axes3D\n",
    "import scipy.sparse"
   ]
  },
  {
   "cell_type": "code",
   "execution_count": 18,
   "id": "6a85848a",
   "metadata": {},
   "outputs": [],
   "source": [
    "def bottom_boundary_condition(K,T, r, t):\n",
    "    return K*np.exp(-r*(T-t))\n",
    "def top_boundary_condition(t):\n",
    "    return np.zeros(t.shape)\n",
    "def final_boundary_condition(K,S):\n",
    "    return np.maximum(K-S,0)"
   ]
  },
  {
   "cell_type": "code",
   "execution_count": 19,
   "id": "58a4ea28",
   "metadata": {},
   "outputs": [],
   "source": [
    "def compute_abc( K, T, sigma, r, S, dt, dS ):\n",
    "    a = -sigma**2 * S**2/(2* dS**2 ) + r*S/(2*dS)\n",
    "    b = r + sigma**2 * S**2/(dS**2)\n",
    "    c = -sigma**2 * S**2/(2* dS**2 ) - r*S/(2*dS)\n",
    "    return a,b,c\n",
    "def compute_lambda( a,b,c ):\n",
    "    return scipy.sparse.diags( [a[1:],b,c[:-1]],offsets=[-1,0,1])\n",
    "def compute_W(a,b,c, V0, VM): \n",
    "    M = len(b)+1\n",
    "    W = np.zeros(M-1)\n",
    "    W[0] = a[0]*V0 \n",
    "    W[-1] = c[-1]*VM \n",
    "    return W"
   ]
  },
  {
   "cell_type": "code",
   "execution_count": 20,
   "id": "b4169d6f",
   "metadata": {},
   "outputs": [],
   "source": [
    "def price_put_explicit( K, T, r, sigma, N, M):\n",
    "    # Choose the shape of the grid\n",
    "    dt = T/N\n",
    "    S_min=0\n",
    "    S_max=K*np.exp(8*sigma*np.sqrt(T))\n",
    "    dS = (S_max-S_min)/M\n",
    "    S = np.linspace(S_min,S_max,M+1)\n",
    "    t = np.linspace(0,T,N+1)\n",
    "    V = np.zeros((N+1,M+1)) #...\n",
    "    \n",
    "    # Set the boundary conditions\n",
    "    V[:,-1] = top_boundary_condition(t)\n",
    "    V[:,0] = bottom_boundary_condition(K,T, r, t)\n",
    "    V[-1,:] = final_boundary_condition(K,S) #...\n",
    "    \n",
    "    # Apply the recurrence relation\n",
    "    a,b,c = compute_abc(K,T,sigma,r,S[1:-1],dt,dS)\n",
    "    Lambda =compute_lambda( a,b,c) \n",
    "    identity = scipy.sparse.identity(M-1)\n",
    "    \n",
    "    for i in range(N,0,-1):\n",
    "        W = compute_W(a,b,c,V[i,0],V[i,M])\n",
    "        # Use `dot` to multiply a vector by a sparse matrix\n",
    "        V[i-1,1:M] = (identity-Lambda*dt).dot( V[i,1:M] ) - W*dt\n",
    "        \n",
    "    return V, t, S"
   ]
  },
  {
   "cell_type": "code",
   "execution_count": 21,
   "id": "933b144c",
   "metadata": {},
   "outputs": [
    {
     "data": {
      "text/plain": [
       "array([[ 1.71717493e+04,  6.88983565e+03,  1.80945347e+03, ...,\n",
       "        -6.04771567e+02,  8.40442940e+01,  0.00000000e+00],\n",
       "       [ 1.71723138e+04,  6.88071260e+03,  1.78144699e+03, ...,\n",
       "         1.62178259e+01, -1.52870550e+00,  0.00000000e+00],\n",
       "       [ 1.71728784e+04,  6.87160723e+03,  1.75320258e+03, ...,\n",
       "        -3.17352030e-01,  1.52089025e-02,  0.00000000e+00],\n",
       "       ...,\n",
       "       [ 1.71988691e+04,  6.48337815e+03,  9.46217233e+01, ...,\n",
       "         0.00000000e+00,  0.00000000e+00,  0.00000000e+00],\n",
       "       [ 1.71994345e+04,  6.47592981e+03,  4.76368224e+01, ...,\n",
       "         0.00000000e+00,  0.00000000e+00,  0.00000000e+00],\n",
       "       [ 1.72000000e+04,  6.46854173e+03,  0.00000000e+00, ...,\n",
       "         0.00000000e+00,  0.00000000e+00,  0.00000000e+00]])"
      ]
     },
     "execution_count": 21,
     "metadata": {},
     "output_type": "execute_result"
    }
   ],
   "source": [
    "K = 17200  #0.8*21500\n",
    "T = 30/365\n",
    "r = 0.02\n",
    "sigma =1.5\n",
    "N = 50\n",
    "M = 50\n",
    "price_put_explicit( K, T, r, sigma, N, M)[0]"
   ]
  },
  {
   "cell_type": "markdown",
   "id": "ab9680e7",
   "metadata": {},
   "source": [
    "### iii) Monte Carlo Simulation"
   ]
  },
  {
   "cell_type": "code",
   "execution_count": 22,
   "id": "88d5f769",
   "metadata": {},
   "outputs": [],
   "source": [
    "def MonteCarloPricing(S_0,T,r,sigma,N):\n",
    "    num_of_steps = T\n",
    "    T /= 365\n",
    "    K = 0.8*S_0\n",
    "    dt = T/num_of_steps\n",
    "    \n",
    "    np.random.seed(20)\n",
    "    simulation_results = None\n",
    "\n",
    "    # Initializing price movements for simulation: rows as time index and columns as different random price movements.\n",
    "    S = np.zeros((num_of_steps,N))        \n",
    "    # Starting value for all price movements is the current spot price\n",
    "    S[0] = S_0\n",
    "\n",
    "    for t in range(1,num_of_steps):\n",
    "        # Random values to simulate Brownian motion (Gaussian distibution)\n",
    "        Z = np.random.standard_normal(N)\n",
    "        # Updating prices for next point in time \n",
    "        S[t] = S[t - 1] * np.exp((r - 0.5*sigma ** 2) * dt + (sigma * np.sqrt(dt) * Z))\n",
    "\n",
    "    simulation_results_S = S\n",
    "    \n",
    "    if simulation_results_S is None:\n",
    "            return -1\n",
    "    return np.exp(-r*T) * 1/N * np.sum(np.maximum(K - simulation_results_S[-1], 0))\n",
    "    \n",
    "    "
   ]
  },
  {
   "cell_type": "code",
   "execution_count": 23,
   "id": "33bda07f",
   "metadata": {},
   "outputs": [
    {
     "name": "stdout",
     "output_type": "stream",
     "text": [
      "1455.7826560912142\n"
     ]
    }
   ],
   "source": [
    "S_0 = 21500\n",
    "T = 30\n",
    "r = 0.02\n",
    "sigma = 1.5\n",
    "N = 10000\n",
    "print(MonteCarloPricing(S_0,T,r,sigma,N))"
   ]
  },
  {
   "cell_type": "code",
   "execution_count": null,
   "id": "ba3339fe",
   "metadata": {},
   "outputs": [],
   "source": [
    "# 1)I decide to use implied volatility to calculated.Because,it's the highest value.\n",
    "# 2) -"
   ]
  },
  {
   "cell_type": "markdown",
   "id": "739d7521",
   "metadata": {},
   "source": [
    "###  iv) \n"
   ]
  },
  {
   "cell_type": "code",
   "execution_count": null,
   "id": "3e5a4247",
   "metadata": {},
   "outputs": [],
   "source": [
    "''' Black–Scholes model\n",
    "    - The Black–Scholes formula gives a theoretical estimate of the price of European-style options and shows that the option has a unique price given the risk of the security and its expected to return.\n",
    "'''\n",
    "# Source: https://en.wikipedia.org/wiki/Black%E2%80%93Scholes_model\n",
    "''' Finite difference methods\n",
    "    - Finite difference methods are used to price options by approximating the differential equation that describes how an option price evolves over time by\n",
    "      a set of (discrete-time) difference equations.\n",
    "    - This method can solve derivative pricing problems that have, in general, the same level of complexity as those problems solved by tree approaches,but,\n",
    "      given their relative complexity, are usually employed only when other approaches are inappropriate.\n",
    "      At the same time, like tree-based methods, this approach is limited in terms of the number of underlying variables, and for problems with Monte Carlo methods for option pricing are usually preferred.\n",
    "'''\n",
    "# Source: https://en.wikipedia.org/wiki/Finite_difference_methods_for_option_pricing\n",
    "''' Monte Carlo methods\n",
    "    - Monte Carlo option model uses Monte Carlo methods[Notes 1] to calculate the value of an option with multiple sources of uncertainty or with complicated features. \n",
    "    - Monte Carlo Methods are particularly useful in the valuation of options with multiple sources of uncertainty or with complicated features, which would make them difficult to value \n",
    "      through a straightforward Black–Scholes-style or lattice based computation.\n",
    "    - The technique is thus widely used in valuing path dependent structures like lookback- and Asian options and in real options analysis.Additionally, as above, \n",
    "      the modeller is not limited as to the probability distribution assumed.\n",
    "    - If an analytical technique for valuing the option exists—or even a numeric technique, such as a (modified) pricing tree—Monte Carlo methods will usually be too slow to be competitive.  \n",
    "'''    \n",
    "# Source: https://en.wikipedia.org/wiki/Monte_Carlo_methods_for_option_pricing\n",
    "'''From these 3 models,In my opinion I think the 1st model;Black Scholes model; is the best model.Because,it gives the highest put pricing value.\n",
    "# The value of 2nd models,I think the value is over.'''\n"
   ]
  }
 ],
 "metadata": {
  "kernelspec": {
   "display_name": "Python 3 (ipykernel)",
   "language": "python",
   "name": "python3"
  },
  "language_info": {
   "codemirror_mode": {
    "name": "ipython",
    "version": 3
   },
   "file_extension": ".py",
   "mimetype": "text/x-python",
   "name": "python",
   "nbconvert_exporter": "python",
   "pygments_lexer": "ipython3",
   "version": "3.8.3"
  }
 },
 "nbformat": 4,
 "nbformat_minor": 5
}
